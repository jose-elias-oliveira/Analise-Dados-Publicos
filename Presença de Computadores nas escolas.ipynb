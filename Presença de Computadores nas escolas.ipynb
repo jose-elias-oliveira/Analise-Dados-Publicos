{
 "cells": [
  {
   "cell_type": "markdown",
   "metadata": {},
   "source": [
    "# Análise da Presença de Computadores no Âmbito Escolar #\n",
    "---\n",
    "### José Elias de Oliveira\n",
    "\n",
    "## Introdução\n",
    "Projeto com o intuito de usar o python para realizar a analise de dados públicos. Nesse projeto foi escolhido a informação do Censo escolar de 2018. Este projeto está sendo desenvolvido para as matérias de Estrutura de Dados e Laboratório de Banco de Dados do curso de Análise de Sistemas da  FATEC Professor Jessen Vidal.\n",
    "\n",
    "\n",
    "## A PRESENSÇA DE COMPUTADORES NO ÂMBITO ESCOLAR ##\n",
    "\n",
    "Analisar os dados publicos do Censo Escolar 2018 para criar um gráfico que represeta o quanto computadores estão conectados com o sistema de ensino por todo o brasil."
   ]
  },
  {
   "cell_type": "code",
   "execution_count": 8,
   "metadata": {
    "scrolled": true
   },
   "outputs": [
    {
     "data": {
      "text/plain": [
       "(286015, 1)"
      ]
     },
     "execution_count": 8,
     "metadata": {},
     "output_type": "execute_result"
    }
   ],
   "source": [
    "\n",
    "import pandas as pd\n",
    "low_memory=False\n",
    "pd.options.display.max_columns = 80\n",
    "pd.options.display.max_rows = 90\n",
    "\n",
    "\n",
    "import numpy as np\n",
    "import matplotlib.pyplot as plt\n",
    "\n",
    "columns = ['CO_ENTIDADE']\n",
    "\n",
    "df = pd.read_csv('ESCOLAS.CSV', delimiter = ';', names = columns, encoding='iso-8859-1')\n",
    "df.shape"
   ]
  },
  {
   "cell_type": "markdown",
   "metadata": {},
   "source": [
    "## Dados das Escolas ##\n"
   ]
  },
  {
   "cell_type": "code",
   "execution_count": 22,
   "metadata": {
    "scrolled": false
   },
   "outputs": [
    {
     "data": {
      "text/html": [
       "<div>\n",
       "<style scoped>\n",
       "    .dataframe tbody tr th:only-of-type {\n",
       "        vertical-align: middle;\n",
       "    }\n",
       "\n",
       "    .dataframe tbody tr th {\n",
       "        vertical-align: top;\n",
       "    }\n",
       "\n",
       "    .dataframe thead th {\n",
       "        text-align: right;\n",
       "    }\n",
       "</style>\n",
       "<table border=\"1\" class=\"dataframe\">\n",
       "  <thead>\n",
       "    <tr style=\"text-align: right;\">\n",
       "      <th></th>\n",
       "      <th>CO_ENTIDADE</th>\n",
       "      <th>NO_ENTIDADE</th>\n",
       "      <th>CO_ORGAO_REGIONAL</th>\n",
       "      <th>CO_REGIAO</th>\n",
       "      <th>CO_UF</th>\n",
       "      <th>CO_MUNICIPIO</th>\n",
       "      <th>IN_COMPUTADOR</th>\n",
       "    </tr>\n",
       "  </thead>\n",
       "  <tbody>\n",
       "    <tr>\n",
       "      <th>0</th>\n",
       "      <td>NU_ANO_CENSO|CO_ENTIDADE|NO_ENTIDADE|CO_ORGAO_...</td>\n",
       "      <td>NaN</td>\n",
       "      <td>NaN</td>\n",
       "      <td>NaN</td>\n",
       "      <td>NaN</td>\n",
       "      <td>NaN</td>\n",
       "      <td>NaN</td>\n",
       "    </tr>\n",
       "    <tr>\n",
       "      <th>1</th>\n",
       "      <td>2018|11022370|EMEIEF CARLOS CHAGAS|00012|1|05/...</td>\n",
       "      <td>NaN</td>\n",
       "      <td>NaN</td>\n",
       "      <td>NaN</td>\n",
       "      <td>NaN</td>\n",
       "      <td>NaN</td>\n",
       "      <td>NaN</td>\n",
       "    </tr>\n",
       "    <tr>\n",
       "      <th>2</th>\n",
       "      <td>2018|11022388|EMEIEF CARLOS GOMES|00012|1|05/0...</td>\n",
       "      <td>NaN</td>\n",
       "      <td>NaN</td>\n",
       "      <td>NaN</td>\n",
       "      <td>NaN</td>\n",
       "      <td>NaN</td>\n",
       "      <td>NaN</td>\n",
       "    </tr>\n",
       "    <tr>\n",
       "      <th>3</th>\n",
       "      <td>2018|11022450|EEEF DEONILDO CARAGNATTO|00012|1...</td>\n",
       "      <td>NaN</td>\n",
       "      <td>NaN</td>\n",
       "      <td>NaN</td>\n",
       "      <td>NaN</td>\n",
       "      <td>NaN</td>\n",
       "      <td>NaN</td>\n",
       "    </tr>\n",
       "    <tr>\n",
       "      <th>4</th>\n",
       "      <td>2018|11022469|EMEIEF DEONILDO CARAGNATTO|00012...</td>\n",
       "      <td>NaN</td>\n",
       "      <td>NaN</td>\n",
       "      <td>NaN</td>\n",
       "      <td>NaN</td>\n",
       "      <td>NaN</td>\n",
       "      <td>NaN</td>\n",
       "    </tr>\n",
       "    <tr>\n",
       "      <th>...</th>\n",
       "      <td>...</td>\n",
       "      <td>...</td>\n",
       "      <td>...</td>\n",
       "      <td>...</td>\n",
       "      <td>...</td>\n",
       "      <td>...</td>\n",
       "      <td>...</td>\n",
       "    </tr>\n",
       "    <tr>\n",
       "      <th>286010</th>\n",
       "      <td>2018|33092745|EXTERNATO JOSE LEVY|11008|1|21/0...</td>\n",
       "      <td>NaN</td>\n",
       "      <td>NaN</td>\n",
       "      <td>NaN</td>\n",
       "      <td>NaN</td>\n",
       "      <td>NaN</td>\n",
       "      <td>NaN</td>\n",
       "    </tr>\n",
       "    <tr>\n",
       "      <th>286011</th>\n",
       "      <td>2018|33092753|EMPROF VIRGILIO MACHADO|11010|1|...</td>\n",
       "      <td>NaN</td>\n",
       "      <td>NaN</td>\n",
       "      <td>NaN</td>\n",
       "      <td>NaN</td>\n",
       "      <td>NaN</td>\n",
       "      <td>NaN</td>\n",
       "    </tr>\n",
       "    <tr>\n",
       "      <th>286012</th>\n",
       "      <td>2018|33092770|INST BRASIL|11008|1|01/02/2018|1...</td>\n",
       "      <td>NaN</td>\n",
       "      <td>NaN</td>\n",
       "      <td>NaN</td>\n",
       "      <td>NaN</td>\n",
       "      <td>NaN</td>\n",
       "      <td>NaN</td>\n",
       "    </tr>\n",
       "    <tr>\n",
       "      <th>286013</th>\n",
       "      <td>2018|33092796|CIEP 179 PROFESSOR CLAUDIO GAMA|...</td>\n",
       "      <td>NaN</td>\n",
       "      <td>NaN</td>\n",
       "      <td>NaN</td>\n",
       "      <td>NaN</td>\n",
       "      <td>NaN</td>\n",
       "      <td>NaN</td>\n",
       "    </tr>\n",
       "    <tr>\n",
       "      <th>286014</th>\n",
       "      <td>2018|33092818|INST LUDOLF REIS|11008|1|01/02/2...</td>\n",
       "      <td>NaN</td>\n",
       "      <td>NaN</td>\n",
       "      <td>NaN</td>\n",
       "      <td>NaN</td>\n",
       "      <td>NaN</td>\n",
       "      <td>NaN</td>\n",
       "    </tr>\n",
       "  </tbody>\n",
       "</table>\n",
       "<p>286015 rows × 7 columns</p>\n",
       "</div>"
      ],
      "text/plain": [
       "                                              CO_ENTIDADE  NO_ENTIDADE  \\\n",
       "0       NU_ANO_CENSO|CO_ENTIDADE|NO_ENTIDADE|CO_ORGAO_...          NaN   \n",
       "1       2018|11022370|EMEIEF CARLOS CHAGAS|00012|1|05/...          NaN   \n",
       "2       2018|11022388|EMEIEF CARLOS GOMES|00012|1|05/0...          NaN   \n",
       "3       2018|11022450|EEEF DEONILDO CARAGNATTO|00012|1...          NaN   \n",
       "4       2018|11022469|EMEIEF DEONILDO CARAGNATTO|00012...          NaN   \n",
       "...                                                   ...          ...   \n",
       "286010  2018|33092745|EXTERNATO JOSE LEVY|11008|1|21/0...          NaN   \n",
       "286011  2018|33092753|EMPROF VIRGILIO MACHADO|11010|1|...          NaN   \n",
       "286012  2018|33092770|INST BRASIL|11008|1|01/02/2018|1...          NaN   \n",
       "286013  2018|33092796|CIEP 179 PROFESSOR CLAUDIO GAMA|...          NaN   \n",
       "286014  2018|33092818|INST LUDOLF REIS|11008|1|01/02/2...          NaN   \n",
       "\n",
       "        CO_ORGAO_REGIONAL  CO_REGIAO  CO_UF  CO_MUNICIPIO  IN_COMPUTADOR  \n",
       "0                     NaN        NaN    NaN           NaN            NaN  \n",
       "1                     NaN        NaN    NaN           NaN            NaN  \n",
       "2                     NaN        NaN    NaN           NaN            NaN  \n",
       "3                     NaN        NaN    NaN           NaN            NaN  \n",
       "4                     NaN        NaN    NaN           NaN            NaN  \n",
       "...                   ...        ...    ...           ...            ...  \n",
       "286010                NaN        NaN    NaN           NaN            NaN  \n",
       "286011                NaN        NaN    NaN           NaN            NaN  \n",
       "286012                NaN        NaN    NaN           NaN            NaN  \n",
       "286013                NaN        NaN    NaN           NaN            NaN  \n",
       "286014                NaN        NaN    NaN           NaN            NaN  \n",
       "\n",
       "[286015 rows x 7 columns]"
      ]
     },
     "execution_count": 22,
     "metadata": {},
     "output_type": "execute_result"
    }
   ],
   "source": [
    "\n",
    "filename = 'ESCOLAS.csv'\n",
    "columns = ['CO_ENTIDADE','NO_ENTIDADE','CO_ORGAO_REGIONAL', 'CO_REGIAO','CO_UF', 'CO_MUNICIPIO', 'IN_COMPUTADOR']\n",
    "df2 = pd.read_csv(filename, delimiter = ';', names = columns, encoding='iso-8859-1')\n",
    "df2"
   ]
  },
  {
   "cell_type": "code",
   "execution_count": 14,
   "metadata": {},
   "outputs": [
    {
     "name": "stdout",
     "output_type": "stream",
     "text": [
      "<class 'pandas.core.frame.DataFrame'>\n",
      "RangeIndex: 286015 entries, 0 to 286014\n",
      "Data columns (total 5 columns):\n",
      "CO_ENTIDADE          286015 non-null object\n",
      "NO_ENTIDADE          0 non-null float64\n",
      "CO_ORGAO_REGIONAL    0 non-null float64\n",
      "CO_UF                0 non-null float64\n",
      "CO_REGIAO            0 non-null float64\n",
      "dtypes: float64(4), object(1)\n",
      "memory usage: 9.8+ MB\n"
     ]
    }
   ],
   "source": [
    "df2.info()"
   ]
  },
  {
   "cell_type": "code",
   "execution_count": 23,
   "metadata": {},
   "outputs": [
    {
     "data": {
      "text/html": [
       "<div>\n",
       "<style scoped>\n",
       "    .dataframe tbody tr th:only-of-type {\n",
       "        vertical-align: middle;\n",
       "    }\n",
       "\n",
       "    .dataframe tbody tr th {\n",
       "        vertical-align: top;\n",
       "    }\n",
       "\n",
       "    .dataframe thead th {\n",
       "        text-align: right;\n",
       "    }\n",
       "</style>\n",
       "<table border=\"1\" class=\"dataframe\">\n",
       "  <thead>\n",
       "    <tr style=\"text-align: right;\">\n",
       "      <th></th>\n",
       "      <th>CO_ENTIDADE</th>\n",
       "      <th>NO_ENTIDADE</th>\n",
       "      <th>CO_ORGAO_REGIONAL</th>\n",
       "      <th>CO_UF</th>\n",
       "      <th>CO_REGIAO</th>\n",
       "    </tr>\n",
       "  </thead>\n",
       "  <tbody>\n",
       "  </tbody>\n",
       "</table>\n",
       "</div>"
      ],
      "text/plain": [
       "Empty DataFrame\n",
       "Columns: [CO_ENTIDADE, NO_ENTIDADE, CO_ORGAO_REGIONAL, CO_UF, CO_REGIAO]\n",
       "Index: []"
      ]
     },
     "execution_count": 23,
     "metadata": {},
     "output_type": "execute_result"
    }
   ],
   "source": [
    "\n",
    "df2.query('IN_COMPUTADOR == 1')[['CO_ENTIDADE','NO_ENTIDADE', 'CO_ORGAO_REGIONAL', 'CO_UF', 'CO_REGIAO']].sort_values(by='CO_ENTIDADE').head(10)\n"
   ]
  },
  {
   "cell_type": "markdown",
   "metadata": {},
   "source": [
    "## GRAFICO COMPUTADORES POR REGIÃO\n"
   ]
  },
  {
   "cell_type": "code",
   "execution_count": null,
   "metadata": {},
   "outputs": [],
   "source": []
  }
 ],
 "metadata": {
  "kernelspec": {
   "display_name": "Python 3",
   "language": "python",
   "name": "python3"
  },
  "language_info": {
   "codemirror_mode": {
    "name": "ipython",
    "version": 3
   },
   "file_extension": ".py",
   "mimetype": "text/x-python",
   "name": "python",
   "nbconvert_exporter": "python",
   "pygments_lexer": "ipython3",
   "version": "3.8.0"
  }
 },
 "nbformat": 4,
 "nbformat_minor": 2
}
